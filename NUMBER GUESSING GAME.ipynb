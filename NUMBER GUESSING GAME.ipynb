{
  "nbformat": 4,
  "nbformat_minor": 0,
  "metadata": {
    "colab": {
      "name": "PROJECT 97: NUMBER GUESSING GAME",
      "provenance": [],
      "collapsed_sections": [],
      "authorship_tag": "ABX9TyPmY0XZgNGia4+mm0cYqwZ1",
      "include_colab_link": true
    },
    "kernelspec": {
      "name": "python3",
      "display_name": "Python 3"
    },
    "language_info": {
      "name": "python"
    }
  },
  "cells": [
    {
      "cell_type": "markdown",
      "metadata": {
        "id": "view-in-github",
        "colab_type": "text"
      },
      "source": [
        "<a href=\"https://colab.research.google.com/github/Aashutosh-2006/-stellar-stage-2-project-77/blob/main/NUMBER%20GUESSING%20GAME.ipynb\" target=\"_parent\"><img src=\"https://colab.research.google.com/assets/colab-badge.svg\" alt=\"Open In Colab\"/></a>"
      ]
    },
    {
      "cell_type": "code",
      "metadata": {
        "id": "JikEQb2W7YLu"
      },
      "source": [
        "import random\n",
        "lower = int(input(\"Enter Lower bound:- \"))\n",
        "upper = int(input(\"Enter Upper bound:- \")) \n",
        "number = random.randint(lower, upper)\n",
        "chance = 0\n",
        "while chance < 5:  \n",
        "    chance += 1\n",
        "    guess = int(input(\"Guess a number:- \"))\n",
        "    if number == guess:\n",
        "        print(\"Congratulations YOU WON!!! \",)    \n",
        "        break\n",
        "    elif number > guess:\n",
        "        print(\"Your guess was too low\")\n",
        "    elif number < guess:\n",
        "        print(\"You guess was too high\") \n",
        "if chance >= 5:\n",
        "    print(\"YOU LOOSE !!! the number is \",number )\n"
      ],
      "execution_count": null,
      "outputs": []
    }
  ]
}